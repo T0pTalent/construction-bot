{
 "cells": [
  {
   "cell_type": "code",
   "execution_count": 1,
   "metadata": {},
   "outputs": [
    {
     "name": "stderr",
     "output_type": "stream",
     "text": [
      "/home/ginger/.local/lib/python3.9/site-packages/pinecone/index.py:4: TqdmExperimentalWarning: Using `tqdm.autonotebook.tqdm` in notebook mode. Use `tqdm.tqdm` instead to force console mode (e.g. in jupyter console)\n",
      "  from tqdm.autonotebook import tqdm\n"
     ]
    }
   ],
   "source": [
    "import pinecone"
   ]
  },
  {
   "cell_type": "code",
   "execution_count": 9,
   "metadata": {},
   "outputs": [],
   "source": [
    "from config import *"
   ]
  },
  {
   "cell_type": "code",
   "execution_count": 3,
   "metadata": {},
   "outputs": [],
   "source": [
    "from utils import *"
   ]
  },
  {
   "cell_type": "code",
   "execution_count": 4,
   "metadata": {},
   "outputs": [],
   "source": [
    "query_vector =  embedding(\n",
    "    'what is construction?'\n",
    ")"
   ]
  },
  {
   "cell_type": "code",
   "execution_count": 46,
   "metadata": {},
   "outputs": [],
   "source": [
    "pinecone.init(api_key=PINECONE_API_KEY, environment=PINECONE_ENV)"
   ]
  },
  {
   "cell_type": "code",
   "execution_count": 47,
   "metadata": {},
   "outputs": [],
   "source": [
    "index = pinecone.Index('test')"
   ]
  },
  {
   "cell_type": "code",
   "execution_count": 48,
   "metadata": {},
   "outputs": [],
   "source": [
    "matches = index.query(query_vector, property='detail', top_k=3)"
   ]
  },
  {
   "cell_type": "code",
   "execution_count": 49,
   "metadata": {},
   "outputs": [],
   "source": [
    "ids = [i['id'] for i in matches.to_dict()['matches']]"
   ]
  },
  {
   "cell_type": "code",
   "execution_count": 50,
   "metadata": {},
   "outputs": [],
   "source": [
    "data = index.fetch(ids).to_dict()['vectors']"
   ]
  },
  {
   "cell_type": "code",
   "execution_count": 51,
   "metadata": {},
   "outputs": [],
   "source": [
    "descriptions = []\n",
    "for id in ids:\n",
    "    descriptions.append(data[id][\"metadata\"])"
   ]
  },
  {
   "cell_type": "code",
   "execution_count": 52,
   "metadata": {},
   "outputs": [
    {
     "data": {
      "text/plain": [
       "[{'answer': 'Masonry consists of building structures by laying individual masonry units (brick, concrete block, stone, etc). Normally the masonry units are laid with cement mortar, which binds them together to create a structure. Masonry construction can provide beautiful walls and floors at economical prices. Due to the individual masonry units, masonry construction tends to be quite labor intensive. Because of the cement, clay or stone nature of the masonry materials, masonry construction tends to be durable and often requires little maintenance.\\xa0 An excellent introduction to the basics skills and concepts of masonry work is found in the US NavyBuilder Training Course Volume #1.Similar to concrete, masonry tends to be high in compressive strength but low in tension strength. To get a better understanding of the structural advantages and challenges of masonry, see the section onStructural Basics for Concrete. Crack control tends to be a major concern in masonry structures and normally is addressed by Design Professionals on the Plans.',\n",
       "  'question': 'What is Masonry?'},\n",
       " {'answer': 'Changes that add structural loads to Pre-Engineered Building Systems need to carefully considered and submitted for approval.Review the Pre-Engineered Building manufacturer website prior to them starting on the jobsite.',\n",
       "  'question': 'Tricks of the Trade & Rules of Thumb for Special \\rConstruction:'},\n",
       " {'answer': 'When should stairs be started in the Project?',\n",
       "  'question': 'Concrete Stairs'}]"
      ]
     },
     "execution_count": 52,
     "metadata": {},
     "output_type": "execute_result"
    }
   ],
   "source": [
    "[data[id]['metadata'] for id in ids]"
   ]
  },
  {
   "cell_type": "code",
   "execution_count": 53,
   "metadata": {},
   "outputs": [],
   "source": [
    "import openai"
   ]
  },
  {
   "cell_type": "code",
   "execution_count": 54,
   "metadata": {},
   "outputs": [],
   "source": [
    "openai.api_key = OPENAI_KEY"
   ]
  },
  {
   "cell_type": "code",
   "execution_count": 112,
   "metadata": {},
   "outputs": [
    {
     "name": "stdout",
     "output_type": "stream",
     "text": [
      "Residential and commercial construction are two major sectors within the construction industry, each with its own set of standards, practices, and purposes. Here are the key differences between the two:\n",
      "\n",
      "1. Purpose and Use:\n",
      "   - Residential construction focuses on buildings where people live. This includes single-family homes, apartments, condominiums, townhouses, and other types of housing.\n",
      "   - Commercial construction is concerned with buildings and facilities intended for business purposes. This includes office buildings, retail stores, warehouses, hotels, restaurants, medical centers, and other non-residential structures.\n",
      "\n",
      "2. Building Codes and Regulations:\n",
      "   - Residential construction must adhere to specific residential building codes that ensure the safety and well-being of inhabitants. These codes cover aspects like fire safety, electrical systems, plumbing, and structural integrity.\n",
      "   - Commercial construction must comply with commercial building codes, which are often more stringent due to the buildings' public nature and the need to accommodate a larger number of occupants and heavier usage.\n",
      "\n",
      "3. Design and Aesthetics:\n",
      "   - Residential buildings are designed with individual living spaces in mind, prioritizing comfort, privacy, and aesthetics that appeal to homeowners or renters.\n",
      "   - Commercial buildings are designed to suit the needs of businesses and may prioritize functionality, durability, and the ability to accommodate specific commercial activities. They often have more complex design requirements due to the need for larger open spaces, specialized facilities, or infrastructure to support heavy machinery.\n",
      "\n",
      "4. Materials and Construction Techniques:\n",
      "   - Residential construction typically uses wood framing in North America, although masonry and concrete can also be used. The materials and techniques are chosen for cost-effectiveness, ease of construction, and suitability for smaller-scale structures.\n",
      "   - Commercial construction often requires steel framing, reinforced concrete, and other robust materials to support larger structures and heavier loads. The techniques used are generally more complex and may involve advanced technologies and specialized equipment.\n",
      "\n",
      "5. Scale and Complexity:\n",
      "   - Residential projects are usually smaller in scale and less complex than commercial projects. They can range from single-family home renovations to multi-unit apartment buildings.\n",
      "   - Commercial projects can be very large and complex, involving multiple stakeholders, extensive planning, and coordination of various trades and services.\n",
      "\n",
      "6. Financing and Investment:\n",
      "   - Residential construction is often financed by individuals or through mortgages, and the investment is typically smaller compared to commercial projects.\n",
      "   - Commercial construction usually involves larger investments and can be financed through a variety of means, including commercial loans, investors, or real estate investment trusts (REITs).\n",
      "\n",
      "7. Project Duration:\n",
      "   - Residential construction projects, especially single-family homes, can be completed relatively quickly, often within a few months to a year.\n",
      "   - Commercial construction projects may take several years from inception to completion due to their size, complexity, and the various regulatory approvals required.\n",
      "\n",
      "Understanding these differences is crucial for construction professionals, as each sector requires specific expertise, planning, and resources to successfully complete projects."
     ]
    },
    {
     "ename": "KeyError",
     "evalue": "'content'",
     "output_type": "error",
     "traceback": [
      "\u001b[0;31m---------------------------------------------------------------------------\u001b[0m",
      "\u001b[0;31mKeyError\u001b[0m                                  Traceback (most recent call last)",
      "\u001b[1;32m/home/ginger/Documents/BotProject/test.ipynb Cell 14\u001b[0m line \u001b[0;36m1\n\u001b[1;32m      <a href='vscode-notebook-cell:/home/ginger/Documents/BotProject/test.ipynb#X31sZmlsZQ%3D%3D?line=0'>1</a>\u001b[0m \u001b[39mfor\u001b[39;00m res \u001b[39min\u001b[39;00m openai\u001b[39m.\u001b[39mChatCompletion\u001b[39m.\u001b[39mcreate(\n\u001b[1;32m      <a href='vscode-notebook-cell:/home/ginger/Documents/BotProject/test.ipynb#X31sZmlsZQ%3D%3D?line=1'>2</a>\u001b[0m     model\u001b[39m=\u001b[39m\u001b[39m\"\u001b[39m\u001b[39mgpt-4-1106-preview\u001b[39m\u001b[39m\"\u001b[39m,\n\u001b[1;32m      <a href='vscode-notebook-cell:/home/ginger/Documents/BotProject/test.ipynb#X31sZmlsZQ%3D%3D?line=2'>3</a>\u001b[0m     messages\u001b[39m=\u001b[39m[\n\u001b[0;32m   (...)\u001b[0m\n\u001b[1;32m      <a href='vscode-notebook-cell:/home/ginger/Documents/BotProject/test.ipynb#X31sZmlsZQ%3D%3D?line=7'>8</a>\u001b[0m     stream\u001b[39m=\u001b[39m\u001b[39mTrue\u001b[39;00m\n\u001b[1;32m      <a href='vscode-notebook-cell:/home/ginger/Documents/BotProject/test.ipynb#X31sZmlsZQ%3D%3D?line=8'>9</a>\u001b[0m ):\n\u001b[0;32m---> <a href='vscode-notebook-cell:/home/ginger/Documents/BotProject/test.ipynb#X31sZmlsZQ%3D%3D?line=9'>10</a>\u001b[0m     \u001b[39mprint\u001b[39m(res[\u001b[39m'\u001b[39;49m\u001b[39mchoices\u001b[39;49m\u001b[39m'\u001b[39;49m][\u001b[39m0\u001b[39;49m][\u001b[39m'\u001b[39;49m\u001b[39mdelta\u001b[39;49m\u001b[39m'\u001b[39;49m][\u001b[39m'\u001b[39;49m\u001b[39mcontent\u001b[39;49m\u001b[39m'\u001b[39;49m], end\u001b[39m=\u001b[39m\u001b[39m'\u001b[39m\u001b[39m'\u001b[39m)\n",
      "\u001b[0;31mKeyError\u001b[0m: 'content'"
     ]
    }
   ],
   "source": [
    "for res in openai.ChatCompletion.create(\n",
    "    model=\"gpt-4-1106-preview\",\n",
    "    messages=[\n",
    "        {\"role\": \"system\", \"content\": \"You are a helpful assistant in construction Industry.\"},\n",
    "        {\"role\": \"user\", \"content\": \"What's the difference between residential and commercial construction?\"}\n",
    "        ],\n",
    "    temperature=0,\n",
    "    stream=True\n",
    "):\n",
    "    print(res['choices'][0]['delta']['content'], end='')"
   ]
  },
  {
   "cell_type": "code",
   "execution_count": 106,
   "metadata": {},
   "outputs": [
    {
     "data": {
      "text/plain": [
       "<OpenAIObject chat.completion id=chatcmpl-8KVzDqDxJWwMsJhsvM93RpA3RWH8R at 0x7ff4eb4dc6d0> JSON: {\n",
       "  \"choices\": [\n",
       "    {\n",
       "      \"finish_reason\": \"stop\",\n",
       "      \"index\": 0,\n",
       "      \"message\": {\n",
       "        \"content\": \"Residential and commercial construction are two distinct sectors within the construction industry, each with its own set of standards, practices, and purposes. Here are the main differences between the two:\\n\\n1. Purpose and Use:\\n   - Residential construction focuses on buildings where people live. This includes single-family homes, apartments, condominiums, townhouses, and other types of housing.\\n   - Commercial construction is concerned with buildings used for business purposes, such as offices, retail stores, warehouses, factories, shopping centers, hotels, and other types of commercial establishments.\\n\\n2. Building Codes and Regulations:\\n   - Residential construction must adhere to specific residential building codes that address the safety and design of living spaces. These codes often include regulations on room sizes, egress, and amenities.\\n   - Commercial construction must comply with commercial building codes, which can be more stringent and complex due to the buildings' public nature. These codes cover a wider range of issues, including fire safety, accessibility, structural design, and mechanical systems.\\n\\n3. Design and Materials:\\n   - Residential buildings are typically designed with comfort and aesthetics in mind, using materials and finishes that create a welcoming and homey atmosphere.\\n   - Commercial buildings are designed for functionality, durability, and to accommodate the specific needs of businesses. Materials used in commercial construction are often more robust and can include steel frames, reinforced concrete, and commercial-grade components.\\n\\n4. Scale and Complexity:\\n   - Residential projects are usually smaller in scale and less complex than commercial projects. They often involve working with individual homeowners or small investors.\\n   - Commercial projects can be large-scale and complex, involving multiple stakeholders, such as investors, architects, engineers, and contractors. They may require specialized expertise in areas like commercial HVAC systems, elevators, and large-scale electrical systems.\\n\\n5. Financing and Costs:\\n   - Residential construction projects are typically financed by individuals through mortgages or personal loans.\\n   - Commercial construction projects often involve larger amounts of capital and can be financed through a combination of private investors, bank loans, and other financial instruments.\\n\\n6. Project Duration:\\n   - Residential construction projects, especially single-family homes, can be completed relatively quickly, sometimes within a few months.\\n   - Commercial construction projects can take much longer, from several months to several years, depending on the project's size and complexity.\\n\\n7. Contractors and Subcontractors:\\n   - Residential contractors are usually general contractors who can handle a wide range of construction tasks or specialize in certain trades like carpentry or plumbing.\\n   - Commercial contractors often need to coordinate with a larger team of specialized subcontractors who are experienced in commercial-specific systems and requirements.\\n\\nUnderstanding these differences is crucial for construction professionals, as each type of construction requires different skills, knowledge, and resources to successfully complete projects.\",\n",
       "        \"role\": \"assistant\"\n",
       "      }\n",
       "    }\n",
       "  ],\n",
       "  \"created\": 1699900207,\n",
       "  \"id\": \"chatcmpl-8KVzDqDxJWwMsJhsvM93RpA3RWH8R\",\n",
       "  \"model\": \"gpt-4-1106-preview\",\n",
       "  \"object\": \"chat.completion\",\n",
       "  \"system_fingerprint\": \"fp_a24b4d720c\",\n",
       "  \"usage\": {\n",
       "    \"completion_tokens\": 551,\n",
       "    \"prompt_tokens\": 30,\n",
       "    \"total_tokens\": 581\n",
       "  }\n",
       "}"
      ]
     },
     "execution_count": 106,
     "metadata": {},
     "output_type": "execute_result"
    }
   ],
   "source": [
    "response"
   ]
  },
  {
   "cell_type": "code",
   "execution_count": null,
   "metadata": {},
   "outputs": [],
   "source": []
  }
 ],
 "metadata": {
  "kernelspec": {
   "display_name": "Python 3",
   "language": "python",
   "name": "python3"
  },
  "language_info": {
   "codemirror_mode": {
    "name": "ipython",
    "version": 3
   },
   "file_extension": ".py",
   "mimetype": "text/x-python",
   "name": "python",
   "nbconvert_exporter": "python",
   "pygments_lexer": "ipython3",
   "version": "3.9.2"
  }
 },
 "nbformat": 4,
 "nbformat_minor": 2
}
