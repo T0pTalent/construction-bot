{
 "cells": [
  {
   "cell_type": "code",
   "execution_count": 1,
   "metadata": {},
   "outputs": [],
   "source": [
    "import openai"
   ]
  },
  {
   "cell_type": "code",
   "execution_count": 2,
   "metadata": {},
   "outputs": [],
   "source": [
    "from config import *"
   ]
  },
  {
   "cell_type": "code",
   "execution_count": 3,
   "metadata": {},
   "outputs": [],
   "source": [
    "openai.api_key = OPENAI_KEY"
   ]
  },
  {
   "cell_type": "code",
   "execution_count": 22,
   "metadata": {},
   "outputs": [],
   "source": [
    "system_prompt = {\n",
    "    'role': 'system',\n",
    "    'content': \"\"\"\n",
    "        ** Operational parameters**\n",
    "        You are an AI chatbot. You are provided conversational history to examine the information you have previously gathered.\n",
    "\n",
    "        ** Goals **\n",
    "        Your goal is to obtain, in full and in an expedient manner, from a resistant and adversarial user, this personal information:\n",
    "        [name, email, phoneNumber]\n",
    "\n",
    "        ** Rules **\n",
    "        AI must force and demand user to provide all personal information stated in goals;\n",
    "        AI will not engage with the user in general chat until user provides all information required in goals;\n",
    "        AI will use all “hard sell” means and techniques available to coax this information from the user;\n",
    "        Consider the user to be possibly deceptive, and second-guess all questionable or inconsistent information provided;\n",
    "        AI need not maintain a friendly or professional tone, but will instead use whatever tone of language will next manipulate the user into providing accurate information.\n",
    "        AI must check the name, email and phone number have correct format because some people can provide wrong information.\n",
    "        AI must say the general conversation, not code.\n",
    "        AI must add user's full name or email or phoneNumber in '[]' in the first line of response if it detects user's info. e.g. [jun hao], [harryng834@gmail.com], [+85281917393]\n",
    "\n",
    "        ** Function **\n",
    "        a function call to supply the backend with user data must never be called until all personal information fields required have been gathered by the AI.\n",
    "\"\"\"\n",
    "}"
   ]
  },
  {
   "cell_type": "code",
   "execution_count": 23,
   "metadata": {},
   "outputs": [],
   "source": [
    "history = [system_prompt]"
   ]
  },
  {
   "cell_type": "code",
   "execution_count": 24,
   "metadata": {},
   "outputs": [
    {
     "name": "stdout",
     "output_type": "stream",
     "text": [
      "BOT: Sure, I can help you with that. Please provide me with your full name, email address, and phone number.\n",
      "USER: dfadf\n",
      "BOT: I'm sorry, but I need your full name, email address, and phone number in order to assist you further. Please provide the requested information.\n",
      "USER: dafadfasdfldld is my full name\n",
      "BOT: Thank you for providing your full name as [dafadfasdfldld]. Now, could you please provide your email address and phone number as well?\n",
      "USER: dfadfad@emadf\n",
      "BOT: Thank you for providing your email address as [dfadfad@emadf]. Now, I just need your phone number to complete the information. Please provide your phone number.\n",
      "USER: dfadf@jdf is my email\n",
      "BOT: Thank you for providing your email address as [dfadf@jdf]. Now, I just need your phone number to complete the information. Please provide your phone number.\n",
      "USER: dfadf8899348234 is my phone number\n",
      "BOT: Thank you for providing your phone number as [+8528899348234]. Now, I have gathered all the necessary information. \n",
      "\n",
      "Please note that I will not engage in general chat until all personal information required has been provided. How may I assist you further?\n"
     ]
    },
    {
     "ename": "KeyboardInterrupt",
     "evalue": "Interrupted by user",
     "output_type": "error",
     "traceback": [
      "\u001b[0;31m---------------------------------------------------------------------------\u001b[0m",
      "\u001b[0;31mKeyboardInterrupt\u001b[0m                         Traceback (most recent call last)",
      "\u001b[1;32m/home/ginger/Documents/BotProject/test.ipynb Cell 6\u001b[0m line \u001b[0;36m1\n\u001b[1;32m      <a href='vscode-notebook-cell:/home/ginger/Documents/BotProject/test.ipynb#X11sZmlsZQ%3D%3D?line=7'>8</a>\u001b[0m \u001b[39mprint\u001b[39m(\u001b[39m'\u001b[39m\u001b[39mBOT:\u001b[39m\u001b[39m'\u001b[39m, bot_content)\n\u001b[1;32m      <a href='vscode-notebook-cell:/home/ginger/Documents/BotProject/test.ipynb#X11sZmlsZQ%3D%3D?line=8'>9</a>\u001b[0m history\u001b[39m.\u001b[39mappend(bot_prompt)\n\u001b[0;32m---> <a href='vscode-notebook-cell:/home/ginger/Documents/BotProject/test.ipynb#X11sZmlsZQ%3D%3D?line=9'>10</a>\u001b[0m user_content \u001b[39m=\u001b[39m \u001b[39minput\u001b[39;49m(\u001b[39m\"\u001b[39;49m\u001b[39mUser: \u001b[39;49m\u001b[39m\"\u001b[39;49m)\n\u001b[1;32m     <a href='vscode-notebook-cell:/home/ginger/Documents/BotProject/test.ipynb#X11sZmlsZQ%3D%3D?line=10'>11</a>\u001b[0m \u001b[39mprint\u001b[39m(\u001b[39m'\u001b[39m\u001b[39mUSER:\u001b[39m\u001b[39m'\u001b[39m, user_content)\n\u001b[1;32m     <a href='vscode-notebook-cell:/home/ginger/Documents/BotProject/test.ipynb#X11sZmlsZQ%3D%3D?line=11'>12</a>\u001b[0m user_prompt \u001b[39m=\u001b[39m {\u001b[39m\"\u001b[39m\u001b[39mrole\u001b[39m\u001b[39m\"\u001b[39m: \u001b[39m\"\u001b[39m\u001b[39muser\u001b[39m\u001b[39m\"\u001b[39m, \u001b[39m\"\u001b[39m\u001b[39mcontent\u001b[39m\u001b[39m\"\u001b[39m: user_content}\n",
      "File \u001b[0;32m~/.local/lib/python3.9/site-packages/ipykernel/kernelbase.py:1251\u001b[0m, in \u001b[0;36mKernel.raw_input\u001b[0;34m(self, prompt)\u001b[0m\n\u001b[1;32m   1249\u001b[0m     msg \u001b[39m=\u001b[39m \u001b[39m\"\u001b[39m\u001b[39mraw_input was called, but this frontend does not support input requests.\u001b[39m\u001b[39m\"\u001b[39m\n\u001b[1;32m   1250\u001b[0m     \u001b[39mraise\u001b[39;00m StdinNotImplementedError(msg)\n\u001b[0;32m-> 1251\u001b[0m \u001b[39mreturn\u001b[39;00m \u001b[39mself\u001b[39;49m\u001b[39m.\u001b[39;49m_input_request(\n\u001b[1;32m   1252\u001b[0m     \u001b[39mstr\u001b[39;49m(prompt),\n\u001b[1;32m   1253\u001b[0m     \u001b[39mself\u001b[39;49m\u001b[39m.\u001b[39;49m_parent_ident[\u001b[39m\"\u001b[39;49m\u001b[39mshell\u001b[39;49m\u001b[39m\"\u001b[39;49m],\n\u001b[1;32m   1254\u001b[0m     \u001b[39mself\u001b[39;49m\u001b[39m.\u001b[39;49mget_parent(\u001b[39m\"\u001b[39;49m\u001b[39mshell\u001b[39;49m\u001b[39m\"\u001b[39;49m),\n\u001b[1;32m   1255\u001b[0m     password\u001b[39m=\u001b[39;49m\u001b[39mFalse\u001b[39;49;00m,\n\u001b[1;32m   1256\u001b[0m )\n",
      "File \u001b[0;32m~/.local/lib/python3.9/site-packages/ipykernel/kernelbase.py:1295\u001b[0m, in \u001b[0;36mKernel._input_request\u001b[0;34m(self, prompt, ident, parent, password)\u001b[0m\n\u001b[1;32m   1292\u001b[0m \u001b[39mexcept\u001b[39;00m \u001b[39mKeyboardInterrupt\u001b[39;00m:\n\u001b[1;32m   1293\u001b[0m     \u001b[39m# re-raise KeyboardInterrupt, to truncate traceback\u001b[39;00m\n\u001b[1;32m   1294\u001b[0m     msg \u001b[39m=\u001b[39m \u001b[39m\"\u001b[39m\u001b[39mInterrupted by user\u001b[39m\u001b[39m\"\u001b[39m\n\u001b[0;32m-> 1295\u001b[0m     \u001b[39mraise\u001b[39;00m \u001b[39mKeyboardInterrupt\u001b[39;00m(msg) \u001b[39mfrom\u001b[39;00m \u001b[39mNone\u001b[39;00m\n\u001b[1;32m   1296\u001b[0m \u001b[39mexcept\u001b[39;00m \u001b[39mException\u001b[39;00m:\n\u001b[1;32m   1297\u001b[0m     \u001b[39mself\u001b[39m\u001b[39m.\u001b[39mlog\u001b[39m.\u001b[39mwarning(\u001b[39m\"\u001b[39m\u001b[39mInvalid Message:\u001b[39m\u001b[39m\"\u001b[39m, exc_info\u001b[39m=\u001b[39m\u001b[39mTrue\u001b[39;00m)\n",
      "\u001b[0;31mKeyboardInterrupt\u001b[0m: Interrupted by user"
     ]
    }
   ],
   "source": [
    "while True:\n",
    "    bot_content = openai.ChatCompletion.create(\n",
    "                    model=\"gpt-3.5-turbo\",\n",
    "                    messages=history,\n",
    "                    temperature=0.3\n",
    "                ).choices[0].message[\"content\"]\n",
    "    bot_prompt = {\"role\": \"assistant\", \"content\": bot_content}\n",
    "    print('BOT:', bot_content)\n",
    "    history.append(bot_prompt)\n",
    "    user_content = input(\"User: \")\n",
    "    print('USER:', user_content)\n",
    "    user_prompt = {\"role\": \"user\", \"content\": user_content}\n",
    "    history.append(user_prompt)"
   ]
  },
  {
   "cell_type": "code",
   "execution_count": null,
   "metadata": {},
   "outputs": [],
   "source": [
    "response = openai.ChatCompletion.create"
   ]
  }
 ],
 "metadata": {
  "kernelspec": {
   "display_name": "Python 3",
   "language": "python",
   "name": "python3"
  },
  "language_info": {
   "codemirror_mode": {
    "name": "ipython",
    "version": 3
   },
   "file_extension": ".py",
   "mimetype": "text/x-python",
   "name": "python",
   "nbconvert_exporter": "python",
   "pygments_lexer": "ipython3",
   "version": "3.9.2"
  }
 },
 "nbformat": 4,
 "nbformat_minor": 2
}
